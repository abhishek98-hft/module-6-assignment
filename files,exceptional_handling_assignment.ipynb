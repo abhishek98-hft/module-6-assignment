{
  "nbformat": 4,
  "nbformat_minor": 0,
  "metadata": {
    "colab": {
      "provenance": []
    },
    "kernelspec": {
      "name": "python3",
      "display_name": "Python 3"
    },
    "language_info": {
      "name": "python"
    }
  },
  "cells": [
    {
      "cell_type": "markdown",
      "source": [
        "#*THEORY QUESTIONS*#"
      ],
      "metadata": {
        "id": "gZeWuJ-Z4pRZ"
      }
    },
    {
      "cell_type": "markdown",
      "source": [
        "Q1: What is the difference between interpreted and compiled languages?\n",
        "\n"
      ],
      "metadata": {
        "id": "1Jg1gp-N5e02"
      }
    },
    {
      "cell_type": "markdown",
      "source": [
        " Ans: The primary difference between *interpreted* and *compiled* languages lies in how the code is executed. Here's a breakdown:\n",
        "\n",
        "### *Compiled Languages*\n",
        "- *Process:* Source code is translated into machine code (binary executable) by a compiler before execution. This executable file is then run directly by the computer's CPU.  \n",
        "- *Examples:* C, C++, Rust, Go.  \n",
        "- *Pros:*  \n",
        "  - Faster execution since the code is pre-compiled.  \n",
        "  - Better performance for resource-intensive tasks.  \n",
        "- *Cons:*  \n",
        "  - Requires compilation before testing or running.  \n",
        "  - Debugging can be more challenging since errors are identified after compilation.  \n",
        "\n",
        "### *Interpreted Languages*\n",
        "- *Process:* Source code is executed line-by-line by an interpreter at runtime without prior compilation.  \n",
        "- *Examples:* Python, JavaScript, PHP, Ruby.  \n",
        "- *Pros:*  \n",
        "  - Easier to test and debug since you can run code directly without compiling.  \n",
        "  - Great for rapid development and scripting.  \n",
        "- *Cons:*  \n",
        "  - Slower execution since the code is interpreted on the fly.  \n",
        "  - May require the interpreter to be present on the target system.  \n",
        "\n"
      ],
      "metadata": {
        "id": "_4w8ln2-5evj"
      }
    },
    {
      "cell_type": "markdown",
      "source": [
        "Q2:What is exception handling in Python?"
      ],
      "metadata": {
        "id": "81wGje9P5eq2"
      }
    },
    {
      "cell_type": "markdown",
      "source": [
        "Ans: *Exception handling* in Python is a mechanism that allows you to manage and respond to errors (exceptions) that may occur during program execution. Instead of crashing the program, Python lets you handle these errors gracefully using try, except, else, and finally blocks.\n",
        "\n",
        "### *Key Components of Exception Handling*\n",
        "1. **try block**  \n",
        "   - Code that might raise an exception goes here.  \n",
        "2. **except block**  \n",
        "   - Code that runs if an exception occurs.  \n",
        "3. **else block** (optional)  \n",
        "   - Executes if no exceptions are raised.  \n",
        "4. **finally block** (optional)  \n",
        "   - Always executes, regardless of whether an exception was raised or not.  \n",
        "\n",
        "\n",
        "\n",
        "\n",
        "\n",
        "\n",
        "### *Common Python Exceptions*\n",
        "- ZeroDivisionError — Division by zero.  \n",
        "- ValueError — Invalid type conversion.  \n",
        "- TypeError — Incorrect data type used in an operation.  \n",
        "- FileNotFoundError — File not found during file operations.  \n",
        "- KeyError — Accessing a non-existent dictionary key.  \n",
        "\n"
      ],
      "metadata": {
        "id": "haK22dJ75el6"
      }
    },
    {
      "cell_type": "markdown",
      "source": [
        "Q3:  What is the purpose of the finally block in exception handling?"
      ],
      "metadata": {
        "id": "uJKaPHcA5ehK"
      }
    },
    {
      "cell_type": "markdown",
      "source": [
        "Ans: The finally block in Python is used to define code that will execute *no matter what*, regardless of whether an exception was raised or not. Its primary purpose is to handle cleanup actions, such as closing files, releasing resources, or disconnecting from databases.\n",
        "\n",
        "### **Key Characteristics of the finally Block:**\n",
        "- Executes *after* the try and except blocks.  \n",
        "- Runs whether an exception occurs or not.  \n",
        "- Ensures critical cleanup code runs even if the program encounters an error.  \n",
        "\n",
        "\n",
        "\n"
      ],
      "metadata": {
        "id": "tmRUOa7y5ecl"
      }
    },
    {
      "cell_type": "markdown",
      "source": [
        "Q4: What is logging in Python?"
      ],
      "metadata": {
        "id": "_oEZFHlz5eX1"
      }
    },
    {
      "cell_type": "markdown",
      "source": [
        "Ans: *Logging* in Python is a built-in module that allows you to track events that occur during the execution of a program. It is a powerful tool for debugging, monitoring, and recording the flow of your application.\n",
        "\n",
        "### *Why Use Logging?*\n",
        "- Provides better control over error reporting than print() statements.  \n",
        "- Allows you to categorize messages by their *severity*.  \n",
        "- Supports writing logs to files, making it easier to track issues in production environments.  \n",
        "- Enables developers to capture useful diagnostic information.\n",
        "\n",
        "---\n",
        "\n",
        "### *Basic Logging Example*\n",
        "python\n",
        "import logging\n",
        "\n",
        "# Configure logging\n",
        "logging.basicConfig(level=logging.INFO)\n",
        "\n",
        "# Example usage\n",
        "logging.debug(\"This is a debug message\")\n",
        "logging.info(\"This is an info message\")\n",
        "logging.warning(\"This is a warning message\")\n",
        "logging.error(\"This is an error message\")\n",
        "logging.critical(\"This is a critical message\")\n",
        "\n",
        "\n",
        "*Output:*\n",
        "\n",
        "INFO:root:This is an info message\n",
        "WARNING:root:This is a warning message\n",
        "ERROR:root:This is an error message\n",
        "CRITICAL:root:This is a critical message\n",
        "\n",
        "\n",
        "> *Note:* debug messages won’t appear unless you set the level to DEBUG.\n",
        "\n",
        "---\n",
        "\n",
        "### *Logging Levels (from least to most severe)*\n",
        "- **DEBUG** — Detailed information for diagnosing issues.  \n",
        "- **INFO** — General information about program execution.  \n",
        "- **WARNING** — An indication that something unexpected happened.  \n",
        "- **ERROR** — A serious error that prevents part of the program from running.  \n",
        "- **CRITICAL** — A severe error indicating the program may crash.\n",
        "\n",
        "---\n",
        "\n"
      ],
      "metadata": {
        "id": "ZQU2yIhb5eTN"
      }
    },
    {
      "cell_type": "markdown",
      "source": [
        "Q5: What is the significance of the __del__ method in Python?"
      ],
      "metadata": {
        "id": "xHz2-_x75eOX"
      }
    },
    {
      "cell_type": "markdown",
      "source": [
        "Ans: The **__del__** method in Python is a special method known as a *destructor*. It is called when an object is about to be destroyed, allowing you to define cleanup actions such as closing files, releasing resources, or notifying other parts of the program.\n",
        "\n",
        "\n",
        "---\n",
        "\n",
        "### **When is __del__ Called?**\n",
        "- The __del__ method is automatically called when an object is *garbage collected* — that is, when its reference count reaches zero.  \n",
        "- Python’s *Garbage Collector* handles this cleanup process automatically.  \n",
        "\n",
        "---\n",
        "\n",
        "\n",
        "---\n",
        "\n",
        "### **Key Considerations for Using __del__**\n",
        "✅ *Resource Cleanup:* Useful for releasing non-memory resources like files, network connections, or database connections.  \n",
        "✅ *Finalization Logic:* Good for ensuring cleanup actions are performed even if the program exits unexpectedly.  \n",
        "\n",
        "❗ *Potential Pitfalls:*  \n",
        "- *Circular References:* Objects involved in circular references may never be garbage collected, preventing __del__ from being called.  \n",
        "- *Timing Control:* Python's garbage collection timing can be unpredictable, so relying solely on __del__ for critical cleanup is risky.  \n",
        "\n",
        "---\n"
      ],
      "metadata": {
        "id": "mFHQ3M805eKF"
      }
    },
    {
      "cell_type": "markdown",
      "source": [
        "Q6:  What is the difference between import and from ... import in Python?"
      ],
      "metadata": {
        "id": "IiCXD3465eFO"
      }
    },
    {
      "cell_type": "markdown",
      "source": [
        "Ans: In Python, both import and from ... import are used to include code from external modules, but they differ in *syntax, **scope, and **usability*.\n",
        "\n",
        "### **1. import Statement**\n",
        "- Imports the *entire module*.  \n",
        "- You must use the module's name (namespace) to access its functions, classes, or variables.  \n",
        "\n",
        "\n",
        "\n",
        "\n",
        "---\n",
        "\n",
        "### **2. from ... import Statement**\n",
        "- Imports *specific functions, classes, or variables* directly from a module.  \n",
        "- You can use the imported items without the module prefix.  \n",
        "\n",
        "\n",
        "\n",
        "\n",
        "---\n",
        "\n",
        "### **3. from ... import * (Wildcard Import)**\n",
        "- Imports *all public functions, classes, and variables* from a module.  \n",
        "- Avoided in practice because it can cause *namespace pollution* and make debugging harder.  \n",
        "\n",
        "\n",
        "---\n",
        "\n",
        "### *Which One Should You Use?*\n",
        "- Use **import** when you need multiple functions or want to avoid name conflicts.  \n",
        "- Use **from ... import** for importing only a few specific items.  \n",
        "- Avoid **from ... import *** unless absolutely necessary.  \n",
        "\n"
      ],
      "metadata": {
        "id": "vJtoJq6C5eAu"
      }
    },
    {
      "cell_type": "markdown",
      "source": [
        "Q7: How can you handle multiple exceptions in Python?"
      ],
      "metadata": {
        "id": "cJZjjqqb5d7E"
      }
    },
    {
      "cell_type": "markdown",
      "source": [
        "Ans: In Python, you can handle *multiple exceptions* using several techniques that improve code clarity and robustness. Here are the main approaches:\n",
        "\n",
        "---\n",
        "\n",
        "### **1. Multiple except Blocks (Recommended for Different Error Types)**\n",
        "- Use separate except blocks to handle specific exceptions differently.  \n",
        "- Ensures precise error handling for each type of exception.  \n",
        "\n",
        "\n",
        "---\n",
        "\n",
        "### **2. Catching Multiple Exceptions in One except Block**\n",
        "- Use a *tuple* to handle multiple exception types in a single block.  \n",
        "- Useful when multiple errors should trigger the same response.  \n",
        "\n",
        "\n",
        "\n",
        "---\n",
        "\n",
        "### **3. Using Exception as a Catch-All (Use with Caution)**\n",
        "- The Exception class is the *base class* for most exceptions.  \n",
        "- Useful for catching unexpected errors, but it may mask specific issues.  \n",
        "\n",
        ".\n",
        "\n",
        "---\n",
        "\n",
        "### **4. Using else and finally for Better Control**\n",
        "- The else block runs *only if no exceptions* occur.  \n",
        "- The finally block *always runs*, ideal for cleanup.\n",
        "\n"
      ],
      "metadata": {
        "id": "WZglhKKZ5d1B"
      }
    },
    {
      "cell_type": "markdown",
      "source": [
        "Q8: What is the purpose of the with statement when handling files in Python?"
      ],
      "metadata": {
        "id": "r-nDKt6M5dwC"
      }
    },
    {
      "cell_type": "markdown",
      "source": [
        "Ans: The **with** statement in Python is used to manage resources such as files, ensuring they are properly opened and closed. When used with file operations, it simplifies resource management and enhances code readability.\n",
        "\n",
        "### **Purpose of the with Statement**\n",
        "The primary purpose of the with statement is to ensure that resources (like file objects) are *automatically closed* once the block of code is executed — even if an error occurs. This helps prevent resource leaks and improves code reliability.\n",
        "\n",
        "---\n",
        "\n",
        "\n",
        "\n",
        "\n",
        "- The open() function opens the file.  \n",
        "- The as file part assigns the file object to the variable file.  \n",
        "- When the block ends, Python automatically calls file.close(), even if an error occurs.\n",
        "\n",
        "---\n",
        "\n",
        "\n",
        "\n",
        "\n",
        "\n",
        "\n",
        "\n",
        "✅ The file is automatically closed when the with block exits.  \n",
        "✅ Even if an error occurs inside the block, the file will still be closed.  \n",
        "\n",
        "---\n",
        "\n",
        "### **Why Use with Instead of Manual Closing?**\n",
        "✅ *Cleaner Code:* No need to explicitly call .close().  \n",
        "✅ *Automatic Cleanup:* Ensures proper resource release, even if exceptions occur.  \n",
        "✅ *Less Error-Prone:* Reduces the risk of forgetting to close files.  \n",
        "\n",
        "---\n",
        "\n"
      ],
      "metadata": {
        "id": "W9HZpX8a5dpQ"
      }
    },
    {
      "cell_type": "markdown",
      "source": [
        "Q9:  What is the difference between multithreading and multiprocessing?"
      ],
      "metadata": {
        "id": "vv6we5Yi5die"
      }
    },
    {
      "cell_type": "markdown",
      "source": [
        "Ans:The key difference between *multithreading* and *multiprocessing* in Python lies in how they handle concurrency and system resources.\n",
        "\n",
        "---\n",
        "\n",
        "### *1. Multithreading*\n",
        "- Uses *threads* to run multiple tasks concurrently within the *same process*.  \n",
        "- Threads share the same memory space, making communication easier but increasing the risk of *race conditions*.  \n",
        "- Best suited for *I/O-bound* tasks (e.g., network requests, file I/O, database queries) since Python’s *Global Interpreter Lock (GIL)* restricts true parallel execution of multiple threads for CPU-bound tasks.  \n",
        "\n",
        "\n",
        "\n",
        "---\n",
        "\n",
        "### *2. Multiprocessing*\n",
        "- Uses *processes, each running in its **own memory space* with its own Python interpreter.  \n",
        "- Achieves *true parallelism* since processes can run on multiple CPU cores simultaneously.  \n",
        "- Best suited for *CPU-bound* tasks (e.g., complex calculations, data processing).  \n",
        "\n",
        "\n",
        "\n",
        "---\n",
        "\n",
        "### *Key Differences*\n",
        "| Aspect          | Multithreading                  | Multiprocessing                 |\n",
        "|-----------------|---------------------------------|---------------------------------|\n",
        "| *Execution*     | Multiple *threads* in the *same process.  | Multiple **processes*, each with its own memory space. |\n",
        "| *Parallelism*    | Limited by the *GIL, not true parallelism for CPU-bound tasks. | Achieves **true parallelism* by utilizing multiple CPU cores. |\n",
        "| *Memory Usage*   | Threads share the same memory space. | Each process has its own separate memory. |\n",
        "| *Best for*        | *I/O-bound* tasks (e.g., file I/O, network calls).  | *CPU-bound* tasks (e.g., complex calculations). |\n",
        "| *Communication*  | Easier since threads share memory. | More complex; requires *IPC* (Inter-process communication) mechanisms. |\n",
        "\n",
        "---\n",
        "\n",
        "### *Which One  Use?*\n",
        "- Use *multithreading* for tasks that involve *waiting* (e.g., web scraping, network calls).  \n",
        "- Use *multiprocessing* for *CPU-intensive* tasks to leverage multiple cores.  \n",
        "\n"
      ],
      "metadata": {
        "id": "-UugV3Zu5ddr"
      }
    },
    {
      "cell_type": "markdown",
      "source": [
        "Q10:  What are the advantages of using logging in a program?"
      ],
      "metadata": {
        "id": "weP7yfa05dY1"
      }
    },
    {
      "cell_type": "markdown",
      "source": [
        "Ans: Using *logging* in a Python program offers several advantages, especially when it comes to debugging, monitoring, and maintaining your code. Here are the key benefits:\n",
        "\n",
        "### *1. Improved Debugging and Troubleshooting*\n",
        "- Logging provides detailed insights into program execution, making it easier to identify and fix issues.  \n",
        "- Unlike print() statements, logs can capture timestamps, error types, and even stack traces for better analysis.  \n",
        "\n",
        "\n",
        "\n",
        "---\n",
        "\n",
        "### *2. Flexible Output Control*\n",
        "- The logging module allows you to control where log messages are stored — in the console, files, or even external services.  \n",
        "- This flexibility helps you track errors and events without cluttering your main code.\n",
        "\n",
        "\n",
        "\n",
        "---\n",
        "\n",
        "### *3. Different Logging Levels*\n",
        "- Logging provides multiple *severity levels* — DEBUG, INFO, WARNING, ERROR, and CRITICAL.  \n",
        "- This helps categorize logs based on their importance, making it easier to filter or prioritize them.\n",
        "\n",
        "\n",
        "\n",
        "---\n",
        "\n",
        "### *4. Persistent Record of Events*\n",
        "- Unlike print() statements that disappear after execution, logs can be stored for long-term tracking.  \n",
        "- This is invaluable for auditing, debugging, or tracking the system’s behavior over time.\n",
        "\n",
        "---\n",
        "\n",
        "### *5. Better Exception Handling*\n",
        "- Logging can capture *detailed error information*, including stack traces, to help identify root causes.\n",
        "\n",
        "\n",
        "\n",
        "\n",
        "---\n",
        "\n",
        "### *6. Enhanced Code Maintenance*\n",
        "- Logging makes code easier to maintain by providing consistent insights into the program's flow.  \n",
        "- It reduces the need for excessive print() statements, improving code readability.\n",
        "\n",
        "---\n",
        "\n",
        "### *7. Multi-Environment Support*\n",
        "- Logging configurations can be adapted for different environments (e.g., development, testing, production).  \n",
        "- For example, you can log detailed debug data during development but switch to minimal error logs in production.\n",
        "\n",
        "---\n",
        "\n",
        "### *8. Integration with External Systems*\n",
        "- Python’s logging module supports integration with monitoring tools, remote servers, and centralized log management systems for enhanced observability.\n",
        "\n",
        "---\n",
        "\n"
      ],
      "metadata": {
        "id": "yhd-ExmI5dS2"
      }
    },
    {
      "cell_type": "markdown",
      "source": [
        "Q11: What is memory management in Python?"
      ],
      "metadata": {
        "id": "fvliCwAQ54fb"
      }
    },
    {
      "cell_type": "markdown",
      "source": [
        "Ans: *Memory management* in Python refers to the process of efficiently allocating, using, and releasing memory during program execution. Python’s memory management system is designed to handle this automatically through a combination of techniques such as *reference counting, **garbage collection, and **memory pooling*.\n",
        "\n",
        "---\n",
        "\n",
        "### *Key Components of Python’s Memory Management*\n",
        "Python’s memory management is handled by several internal mechanisms:\n",
        "\n",
        "### *1. Reference Counting*\n",
        "- Python uses *reference counting* to keep track of the number of references to an object.  \n",
        "- When an object’s reference count drops to *zero*, the memory occupied by that object is automatically deallocated.\n",
        "\n",
        "\n",
        "---\n",
        "\n",
        "### *2. Garbage Collection (GC)*\n",
        "- Python’s *garbage collector* handles *circular references* (where objects reference each other).  \n",
        "- The gc module provides functions to manually control garbage collection if needed.\n",
        "\n",
        "\n",
        "\n",
        "\n",
        "---\n",
        "\n",
        "### *3. Memory Pooling (Private Heap)*\n",
        "- Python maintains a *private heap* where all Python objects and data structures are stored.  \n",
        "- The *Python Memory Manager* manages this heap internally.  \n",
        "- The **PyObject** allocator handles the creation of objects, while low-level memory operations are optimized for performance.\n",
        "\n",
        "---\n",
        "\n",
        "### *4. Dynamic Typing and Memory Allocation*\n",
        "- Python dynamically allocates memory when objects are created.  \n",
        "- Small objects (like integers or strings) are often stored in *pools* to improve performance and reduce memory fragmentation.\n",
        "\n",
        "---\n",
        "\n",
        "### **5. del Keyword**\n",
        "- The del statement can be used to delete objects or references, reducing their reference count.\n",
        "\n",
        "\n",
        "---\n",
        "\n"
      ],
      "metadata": {
        "id": "nVenT62x54n3"
      }
    },
    {
      "cell_type": "markdown",
      "source": [
        "Q12:  What are the basic steps involved in exception handling in Python?"
      ],
      "metadata": {
        "id": "HAsFYHk159KK"
      }
    },
    {
      "cell_type": "markdown",
      "source": [
        "Ans: In Python, *exception handling* is managed using the try, except, else, and finally blocks. The following are the basic steps involved in handling exceptions effectively:  \n",
        "\n",
        "---\n",
        "\n",
        "### *1. Try Block*\n",
        "- The try block contains the code that may raise an exception.  \n",
        "- If no exception occurs, the except block is *skipped*.  \n",
        "- If an exception occurs, Python immediately jumps to the except block.  \n",
        "\n",
        "\n",
        "---\n",
        "\n",
        "### *2. Except Block*\n",
        "- The except block catches and handles the exception.  \n",
        "- You can specify:  \n",
        "  - A *specific exception type* (recommended).  \n",
        "  - *Multiple exceptions* using a tuple.  \n",
        "  - A *generic exception* (less ideal but useful for unexpected errors).\n",
        "\n",
        "\n",
        "\n",
        "\n",
        "---\n",
        "\n",
        "### *3. Else Block (Optional)*\n",
        "- The else block runs *only if no exception* occurs.  \n",
        "- Ideal for code that should execute only when the try block is successful.  \n",
        "\n",
        "\n",
        "\n",
        "---\n",
        "\n",
        "### *4. Finally Block (Optional but Recommended)*\n",
        "- The finally block runs *no matter what* — whether an exception occurs or not.  \n",
        "- Commonly used for *cleanup actions* like closing files, releasing resources, etc.  \n",
        "\n",
        "\n",
        "\n",
        "---\n",
        "\n",
        "### *5. Raising Exceptions (Optional)*\n",
        "- The raise keyword allows you to *manually trigger* an exception.\n",
        "\n"
      ],
      "metadata": {
        "id": "likdT_ve5987"
      }
    },
    {
      "cell_type": "markdown",
      "source": [
        "Q13:  Why is memory management important in Python?"
      ],
      "metadata": {
        "id": "yILNq2_95-KQ"
      }
    },
    {
      "cell_type": "markdown",
      "source": [
        "Ans:*Memory management* is crucial in Python to ensure efficient use of system resources, improve program performance, and prevent issues like memory leaks or crashes. While Python automates much of this process, understanding its importance can help developers write more optimized and stable code.\n",
        "\n",
        "### *Why Is Memory Management Important in Python?*\n",
        "\n",
        "### *1. Efficient Resource Utilization*\n",
        "- Python applications, especially those handling large data sets or performing complex computations, can consume significant memory.  \n",
        "- Effective memory management minimizes waste and ensures memory is allocated and released efficiently.\n",
        "\n",
        "✅ *Benefit:* Optimizes resource usage, improving performance.\n",
        "\n",
        "---\n",
        "\n",
        "### *2. Preventing Memory Leaks*\n",
        "- A *memory leak* occurs when memory that’s no longer needed isn’t released, causing gradual memory buildup.  \n",
        "- Although Python's *garbage collector* helps prevent leaks, poor coding practices (like circular references) can still cause issues.\n",
        "\n",
        "✅ *Benefit:* Reduces the risk of programs consuming excessive memory and becoming unstable.\n",
        "\n",
        "\n",
        "\n",
        "\n",
        "---\n",
        "\n",
        "### *3. Optimizing Performance*\n",
        "- Efficient memory usage reduces overhead and accelerates code execution.  \n",
        "- Python’s *memory pooling* system reuses memory blocks for small objects, reducing allocation overhead.\n",
        "\n",
        "✅ *Benefit:* Faster execution, especially for CPU-intensive tasks.\n",
        "\n",
        "---\n",
        "\n",
        "### *4. Avoiding Fragmentation*\n",
        "- Memory fragmentation occurs when free memory blocks are scattered, making it harder to allocate large objects.  \n",
        "- Python’s internal memory manager optimizes memory allocation to reduce fragmentation.\n",
        "\n",
        "✅ *Benefit:* Ensures smoother memory allocation, especially in long-running programs.\n",
        "\n",
        "---\n",
        "\n",
        "### *5. Ensuring Program Stability*\n",
        "- Poor memory management can lead to unexpected crashes or unpredictable behavior.  \n",
        "- Python’s memory management mechanisms (like *reference counting* and *garbage collection*) ensure objects are efficiently tracked and deleted when no longer needed.\n",
        "\n",
        "✅ *Benefit:* Increases code reliability and stability.\n",
        "\n",
        "---\n",
        "\n",
        "### *6. Scalability in Large Applications*\n",
        "- For data-heavy applications (e.g., web scraping, data science, or machine learning), efficient memory management is key to handling large volumes of data without excessive overhead.\n",
        "\n",
        "✅ *Benefit:* Supports better scalability and responsiveness.\n",
        "\n",
        "---\n",
        "\n"
      ],
      "metadata": {
        "id": "_GXy9fyH5-We"
      }
    },
    {
      "cell_type": "markdown",
      "source": [
        "Q14: What is the role of try and except in exception handling?"
      ],
      "metadata": {
        "id": "HKXCBfLz5-f7"
      }
    },
    {
      "cell_type": "markdown",
      "source": [
        "Ans: In Python, the **try** and **except** blocks are fundamental components of *exception handling*. They are used to handle runtime errors and ensure the program doesn’t crash unexpectedly.\n",
        "\n",
        "---\n",
        "\n",
        "### **1. try Block**\n",
        "- The try block contains code that may raise an exception.  \n",
        "- If no error occurs, the code inside the try block runs normally, and the except block is skipped.  \n",
        "- If an error occurs, Python *immediately stops* executing the try block and jumps to the corresponding except block.\n",
        "\n",
        "\n",
        "\n",
        "---\n",
        "\n",
        "### **2. except Block**\n",
        "- The except block handles the error that occurs in the try block.  \n",
        "- You can catch:\n",
        "  - A *specific exception* (recommended for precise error handling).  \n",
        "  - *Multiple exceptions* (using a tuple).  \n",
        "  - A *generic exception* to catch all errors (less ideal but sometimes useful).  \n",
        "\n",
        "\n",
        "\n",
        "\n",
        "---\n",
        "\n",
        "### *3.  Points to Remember*\n",
        "✅ The try block must be followed by at least one except block.  \n",
        "✅ You can have **multiple except blocks** to handle different types of exceptions.  \n",
        "✅ The except block will *only execute if an error occurs* in the try block.  \n",
        "✅ Using a *specific exception* is preferred over a generic except as it helps identify issues more accurately.  \n",
        "\n",
        "---\n",
        "\n"
      ],
      "metadata": {
        "id": "d6QXzIga5-tT"
      }
    },
    {
      "cell_type": "markdown",
      "source": [
        "Q15: How does Python's garbage collection system work?"
      ],
      "metadata": {
        "id": "ZgO6SyFS5_JS"
      }
    },
    {
      "cell_type": "markdown",
      "source": [
        "Ans: Python’s *garbage collection (GC)* system is responsible for automatically managing memory by reclaiming unused objects to free up space. It works alongside *reference counting* to ensure efficient memory management.  \n",
        "\n",
        "### *Key Concepts of Python's Garbage Collection System*\n",
        "\n",
        "Python’s garbage collection system primarily relies on two mechanisms:  \n",
        "\n",
        "---\n",
        "\n",
        "### *1. Reference Counting (Primary Mechanism)*\n",
        "- Each object in Python has an associated *reference count* that tracks the number of references pointing to it.  \n",
        "- When an object’s reference count drops to *zero*, Python immediately deallocates the object’s memory.\n",
        "\n",
        "\n",
        "\n",
        "✅ *Advantage:* Fast and automatic.  \n",
        "❗ *Limitation:* Fails to handle *circular references* (where two objects reference each other).\n",
        "\n",
        "---\n",
        "\n",
        "### *2. Garbage Collector (Secondary Mechanism)*\n",
        "Python’s *garbage collector* is part of the **gc** module, designed to handle *circular references* that reference counting alone can’t clean up.\n",
        "\n",
        "#### *How Does It Work?*\n",
        "- Python’s GC uses the *generational garbage collection* strategy, dividing objects into three \"generations\" based on their lifespan:\n",
        "  - *Generation 0:* New objects (frequent collection).\n",
        "  - *Generation 1:* Survived one collection cycle.\n",
        "  - *Generation 2:* Survived multiple cycles (least frequent collection).\n",
        "\n",
        "When the number of objects in a generation exceeds a defined threshold, Python triggers garbage collection for that generation.\n",
        "\n",
        "---\n",
        "\n",
        "### *3. Circular Reference Handling*\n",
        "- Circular references occur when two or more objects reference each other, preventing their reference count from reaching zero.\n",
        "\n",
        "\n",
        "\n",
        "\n",
        "✅ *Advantage:* Ensures objects with circular references are properly collected.  \n",
        "❗ *Limitation:* Slight overhead in performance when cleaning circular references.\n",
        "\n",
        "---\n",
        "\n",
        "### **4. The gc Module (Manual Control of Garbage Collection)**\n",
        "Python allows developers to interact with the garbage collector via the gc module.\n",
        "\n",
        "**Common gc Functions:**\n",
        "- **gc.collect()** — Forces garbage collection.\n",
        "- **gc.get_stats()** — Returns detailed GC statistics.\n",
        "- **gc.set_debug(gc.DEBUG_LEAK)** — Enables debugging for memory leaks.\n",
        "\n",
        "\n",
        "---\n",
        "\n",
        "\n",
        "\n",
        "### *Summary of Python’s Garbage Collection System*\n",
        "| Aspect               | Description                              |\n",
        "|----------------------|------------------------------------------|\n",
        "| *Reference Counting* | Immediate memory release when references reach zero. |\n",
        "| *Garbage Collector*  | Handles *circular references* and optimizes performance using *generational collection*. |\n",
        "| **gc Module**         | Provides manual control over garbage collection. |\n",
        "\n"
      ],
      "metadata": {
        "id": "e-vaWoCD5_TO"
      }
    },
    {
      "cell_type": "markdown",
      "source": [
        "Q16: What is the purpose of the else block in exception handling?"
      ],
      "metadata": {
        "id": "L9l6BAsI5_c0"
      }
    },
    {
      "cell_type": "markdown",
      "source": [
        "Ans: The **else** block in Python's exception handling is used to define code that should run *only if no exceptions are raised* in the try block. It’s an optional but useful part of the try...except structure that helps improve code clarity and logic flow.\n",
        "\n",
        "---\n",
        "\n",
        "### **Purpose of the else Block**\n",
        "- The else block separates *error-handling logic* from the *successful code execution logic*.  \n",
        "- It ensures that code that should only run when there’s *no exception* is clearly distinguished from the try block.  \n",
        "\n",
        "---\n",
        "\n",
        "\n",
        "\n",
        "---\n",
        "\n",
        "\n",
        "\n",
        "---\n",
        "\n",
        "### **When to Use the else Block**\n",
        "✅ Use else when you want to run additional logic that should only execute if the try block succeeds.  \n",
        "✅ It’s ideal for post-processing steps like writing to a log, printing results, or executing dependent logic.  \n",
        "❗ Avoid placing code in else that can potentially raise exceptions; that code should remain in the try block.  \n",
        "\n",
        "---\n",
        "\n",
        "### ** Benefits of Using else**\n",
        "✅ Improves code readability by separating successful logic from exception handling.  \n",
        "✅ Reduces the risk of accidentally handling unexpected errors.  \n",
        "✅ Helps maintain a clear structure, making debugging easier.  \n",
        "\n",
        "---\n",
        "\n"
      ],
      "metadata": {
        "id": "b-EnusYD5_nV"
      }
    },
    {
      "cell_type": "markdown",
      "source": [
        "Q17: What are the common logging levels in Python?"
      ],
      "metadata": {
        "id": "3YD46JnY5_vf"
      }
    },
    {
      "cell_type": "markdown",
      "source": [
        "Ans: In Python's **logging** module, *logging levels* are predefined severity levels that indicate the importance of log messages. These levels help categorize log messages based on their urgency and purpose.\n",
        "\n",
        "---\n",
        "\n",
        "### *Common Logging Levels in Python*\n",
        "The Python logging module provides five primary logging levels, listed in order of severity:\n",
        "\n",
        "| *Level* | *Numeric Value* | *Description* |\n",
        "|:-----------|:------------------|:------------------|\n",
        "| *DEBUG*   | 10                | Detailed diagnostic information for developers (low priority). |\n",
        "| *INFO*    | 20                | Confirmation that things are working as expected. |\n",
        "| *WARNING* | 30                | An indication of a potential problem or unexpected behavior. |\n",
        "| *ERROR*   | 40                | A serious issue that prevents part of the program from running correctly. |\n",
        "| *CRITICAL*| 50                | A severe error that may prevent the application from continuing. |\n",
        "\n",
        "---\n",
        "\n",
        "### *How Logging Levels Work*\n",
        "- Each logging method corresponds to a specific level.  \n",
        "- Messages are recorded *only if their level is equal to or higher* than the configured log level.\n",
        "\n",
        "---\n",
        "\n",
        "\n",
        "\n",
        "\n",
        "### *Choosing the Right Logging Level*\n",
        "- **DEBUG** → For development/testing; provides in-depth information for debugging.  \n",
        "- **INFO** → For routine events that confirm expected behavior.  \n",
        "- **WARNING** → For non-critical issues that might require attention later.  \n",
        "- **ERROR** → For issues that affect functionality but don’t halt the entire application.  \n",
        "- **CRITICAL** → For severe issues requiring immediate intervention.  \n",
        "\n",
        "---\n",
        "\n",
        "\n",
        "\n",
        "\n",
        "---\n",
        "\n"
      ],
      "metadata": {
        "id": "Evx1mal56AEB"
      }
    },
    {
      "cell_type": "markdown",
      "source": [
        "Q18:  What is the difference between os.fork() and multiprocessing in Python?"
      ],
      "metadata": {
        "id": "fRxADd_m6ANL"
      }
    },
    {
      "cell_type": "markdown",
      "source": [
        "Ans: The key difference between **os.fork()** and the **multiprocessing** module in Python is how they create new processes and their compatibility across different operating systems.  \n",
        "\n",
        "---\n",
        "\n",
        "## **1. os.fork(): Low-Level Process Creation**\n",
        "- *What it does:* Creates a new child process by *duplicating* the current process.  \n",
        "- *How it works:* The *parent process* calls os.fork(), and it returns:  \n",
        "  - 0 in the child process.  \n",
        "  - The *child's process ID (PID)* in the parent process.  \n",
        "- *Platform compatibility:* *UNIX-based systems only* (Linux, macOS). It is *not available on Windows*.  \n",
        "\n",
        "\n",
        "\n",
        "✅ *Advantages:*  \n",
        "- Faster since it directly creates a new process at the OS level.  \n",
        "- More control over process management (useful for advanced system programming).  \n",
        "\n",
        "❗ *Disadvantages:*  \n",
        "- *Not cross-platform* (works only on UNIX-based OS).  \n",
        "- Requires careful handling of *shared resources* like file descriptors.  \n",
        "\n",
        "---\n",
        "\n",
        "## **2. multiprocessing Module: Cross-Platform Process Management**\n",
        "- *What it does:* Provides a high-level API for spawning new processes.  \n",
        "- *How it works:* Uses the **Process** class to create independent processes, similar to os.fork(), but with better compatibility and safety.  \n",
        "- *Platform compatibility:* *Works on all operating systems* (Windows, macOS, Linux).  \n",
        "\n",
        "\n",
        "\n",
        "\n",
        "✅ *Advantages:*  \n",
        "- *Cross-platform support* (works on Windows, macOS, and Linux).  \n",
        "- Easier to use than os.fork(), especially for concurrent programming.  \n",
        "- Automatically handles *inter-process communication (IPC)* and *resource management*.  \n",
        "\n",
        "❗ *Disadvantages:*  \n",
        "- Slightly more overhead than os.fork().  \n",
        "- Requires defining functions properly under if __name__ == \"__main__\": to work on Windows.  \n",
        "\n",
        "---\n",
        "\n",
        "## **Key Differences Between os.fork() and multiprocessing**\n",
        "| Feature | os.fork() | multiprocessing |\n",
        "|---------|------------|------------------|\n",
        "| *Process Creation* | Creates an exact duplicate of the parent process. | Spawns a new process with a fresh Python interpreter. |\n",
        "| *Platform* | Works *only on UNIX-based systems* (Linux/macOS). | Works on *all OS platforms* (Windows, macOS, Linux). |\n",
        "| *Ease of Use* | More complex, requires manual resource management. | High-level API, easier to use. |\n",
        "| *Shared Resources* | Inherits memory space from the parent (can cause issues). | Uses separate memory space (avoids memory conflicts). |\n",
        "| *Performance* | Faster since it’s a direct system call. | Slightly slower due to process setup overhead. |\n",
        "\n",
        "---\n",
        "\n",
        "## *When to Use Which?*\n",
        "| Use Case | Best Choice |\n",
        "|----------|------------|\n",
        "| Need raw system-level process creation | **os.fork()** |\n",
        "| Writing cross-platform code | **multiprocessing** |\n",
        "| Need to avoid memory-sharing issues | **multiprocessing** |\n",
        "| Developing an OS-level tool (e.g., process manager) | **os.fork()** |\n",
        "| Parallel execution of tasks | **multiprocessing** |\n",
        "\n",
        "---\n",
        "\n"
      ],
      "metadata": {
        "id": "GuagZqr46AWU"
      }
    },
    {
      "cell_type": "markdown",
      "source": [
        "Q19:  What is the importance of closing a file in Python?"
      ],
      "metadata": {
        "id": "yIbfjkn26Ad9"
      }
    },
    {
      "cell_type": "markdown",
      "source": [
        "Ans: Closing a file in Python is crucial for ensuring data integrity, proper resource management, and program stability. When a file is opened using functions like open(), failing to close it can lead to several issues.\n",
        "\n",
        "---\n",
        "\n",
        "### *Why Is Closing a File Important?*\n",
        "\n",
        "### *1. Releases System Resources*\n",
        "- Open file objects consume system resources such as file descriptors.  \n",
        "- If too many files are left open, the system may reach its *file descriptor limit*, causing errors.  \n",
        "\n",
        "*Example:*\n",
        "python\n",
        "file = open(\"data.txt\", \"r\")\n",
        "# If not closed, this file stays open in system memory\n",
        "\n",
        "\n",
        "---\n",
        "\n",
        "### *2. Ensures Data Is Properly Written (for Write/Append Modes)*\n",
        "- In *write* or *append* modes, data is often buffered (temporarily stored in memory).  \n",
        "- Closing the file ensures that all buffered data is written (flushed) to the file, preventing data loss.\n",
        "\n",
        "*Example:*\n",
        "python\n",
        "file = open(\"output.txt\", \"w\")\n",
        "file.write(\"Important data...\")\n",
        "# Data might remain in the buffer until file.close() is called\n",
        "file.close()\n",
        "\n",
        "\n",
        "---\n",
        "\n",
        "### *3. Prevents File Corruption*\n",
        "- Failing to close a file properly may result in incomplete writes, corrupted files, or unexpected behavior — especially during sudden program termination.\n",
        "\n",
        "---\n",
        "\n",
        "### *4. Avoids File Locking Issues*\n",
        "- On some systems, an open file may be *locked*, preventing other programs or processes from accessing it.  \n",
        "- Closing the file releases the lock, allowing other programs to modify it.\n",
        "\n",
        "---\n",
        "\n",
        "### *5. Improves Code Readability and Maintainability*\n",
        "- Explicitly closing files shows that resource management has been considered, making your code cleaner and safer.\n",
        "\n",
        "---\n",
        "\n",
        "\n",
        "\n",
        "---\n",
        "\n"
      ],
      "metadata": {
        "id": "MDwHwA_W6Alf"
      }
    },
    {
      "cell_type": "markdown",
      "source": [
        "Q20:  What is the difference between file.read() and file.readline() in Python?"
      ],
      "metadata": {
        "id": "jpc08xBK6BUX"
      }
    },
    {
      "cell_type": "markdown",
      "source": [
        "Ans: In Python, both **file.read()** and **file.readline()** are used to read data from a file, but they differ in how they handle content and when they should be used.  \n",
        "\n",
        "---\n",
        "\n",
        "### **1. file.read()**\n",
        "The read() method reads the *entire file* (or a specified number of bytes) as a *single string*.\n",
        "\n",
        "#### *Syntax:*\n",
        "python\n",
        "file.read(size=-1)\n",
        "\n",
        "\n",
        "- size: (Optional) Number of bytes/characters to read.  \n",
        "  - If size is omitted or set to -1, it reads *the entire file*.  \n",
        "  - If size is specified, it reads up to that number of bytes/characters.  \n",
        "\n",
        "---\n",
        "\n",
        "\n",
        "\n",
        "\n",
        "✅ *Best for:* Reading *small files* or when you need to read everything at once.  \n",
        "❗ *Not ideal for:* Large files, as it may consume too much memory.  \n",
        "\n",
        "---\n",
        "\n",
        "### **2. file.readline()**\n",
        "The readline() method reads *one line at a time* from the file.  \n",
        "\n",
        "#### *Syntax:*\n",
        "python\n",
        "file.readline(size=-1)\n",
        "\n",
        "\n",
        "- size: (Optional) Limits the number of characters to read from the line.  \n",
        "- If size is omitted, it reads the *entire line* including the newline character (\\n).  \n",
        "- When the end of the file is reached, readline() returns an *empty string* ('').  \n",
        "\n",
        "---\n",
        "\n",
        "\n",
        "\n",
        "✅ *Best for:* Reading *large files* or processing data *line-by-line* efficiently.  \n",
        "❗ *Less efficient for:* Reading the entire file at once.  \n",
        "\n",
        "---\n",
        "\n",
        "### **Key Differences Between read() and readline()**\n",
        "| Feature           | file.read()                | file.readline()               |\n",
        "|-------------------|-----------------------------|---------------------------------|\n",
        "| *Reads*           | The entire file (or a specified number of bytes). | One line at a time.             |\n",
        "| *Returns*         | A *string* containing the full content. | A *string* containing a single line. |\n",
        "| *When to Use*     | When you need to read *all content at once. | When reading **line-by-line* for large files. |\n",
        "| *Memory Efficiency*| Less efficient for large files.                | More efficient for processing large files. |\n",
        "\n",
        "---\n",
        "\n",
        "### *Example Comparison*\n",
        "**example.txt content:**\n",
        "\n",
        "Line 1\n",
        "Line 2\n",
        "Line 3\n",
        "\n",
        "\n",
        "**Using read()**\n",
        "python\n",
        "with open(\"example.txt\", \"r\") as file:\n",
        "    content = file.read()\n",
        "    print(content)\n",
        "\n",
        "*Output:*  \n",
        "\n",
        "Line 1\n",
        "Line 2\n",
        "Line 3\n",
        "\n",
        "\n",
        "**Using readline()**\n",
        "python\n",
        "with open(\"example.txt\", \"r\") as file:\n",
        "    print(file.readline())  # First line\n",
        "    print(file.readline())  # Second line\n",
        "\n",
        "*Output:*  \n",
        "\n",
        "Line 1\n",
        "Line 2\n",
        "\n",
        "\n",
        "---\n",
        "\n"
      ],
      "metadata": {
        "id": "XEF4F4mk6BcU"
      }
    },
    {
      "cell_type": "markdown",
      "source": [
        "Q21: What is the logging module in Python used for?"
      ],
      "metadata": {
        "id": "h-jR6lVs6iJt"
      }
    },
    {
      "cell_type": "markdown",
      "source": [
        "Ans: The **logging** module in Python is used for recording events, errors, and debugging information in a structured way. It helps developers track the execution of their programs, making debugging and monitoring easier.\n",
        "\n",
        "---\n",
        "\n",
        "## **Key Uses of the logging Module**\n",
        "1. *Debugging & Troubleshooting* – Helps identify issues in code by recording errors and execution flow.  \n",
        "2. *Tracking Application Behavior* – Monitors how the program is running over time.  \n",
        "3. *Recording Events & Warnings* – Logs system events, warnings, or critical failures.  \n",
        "4. *Writing Logs to Files* – Saves logs for later analysis or auditing.  \n",
        "5. *Controlling Log Output* – Allows setting different logging levels (DEBUG, INFO, WARNING, ERROR, CRITICAL).  \n",
        "\n",
        "---\n",
        "\n",
        "## *Basic Example of Logging*\n",
        "python\n",
        "import logging\n",
        "\n",
        "# Configure logging\n",
        "logging.basicConfig(level=logging.DEBUG, format=\"%(levelname)s: %(message)s\")\n",
        "\n",
        "# Logging messages\n",
        "logging.debug(\"Debug message: Useful for diagnosing issues.\")\n",
        "logging.info(\"Info message: Confirms the program is working fine.\")\n",
        "logging.warning(\"Warning message: Something unexpected happened.\")\n",
        "logging.error(\"Error message: A serious issue occurred.\")\n",
        "logging.critical(\"Critical message: The program may crash!\")\n",
        "\n",
        "\n",
        "### *Output:*\n",
        "\n",
        "DEBUG: Debug message: Useful for diagnosing issues.\n",
        "INFO: Info message: Confirms the program is working fine.\n",
        "WARNING: Warning message: Something unexpected happened.\n",
        "ERROR: Error message: A serious issue occurred.\n",
        "CRITICAL: Critical message: The program may crash!\n",
        "\n",
        "\n",
        "---\n",
        "\n",
        "## *Logging Levels in Python*\n",
        "The logging module provides five standard log levels:\n",
        "\n",
        "| *Level*    | *Numeric Value* | *Usage* |\n",
        "|-------------|------------------|-----------|\n",
        "| DEBUG     | 10               | Detailed debugging information. |\n",
        "| INFO      | 20               | General information about program execution. |\n",
        "| WARNING   | 30               | Indication of potential issues. |\n",
        "| ERROR     | 40               | Serious problems that need attention. |\n",
        "| CRITICAL  | 50               | Severe errors that may crash the program. |\n",
        "\n",
        "---\n",
        "\n",
        "## *Logging to a File Instead of Console*\n",
        "You can store logs in a file for later analysis:\n",
        "\n",
        "python\n",
        "logging.basicConfig(filename=\"app.log\", level=logging.WARNING,\n",
        "                    format=\"%(asctime)s - %(levelname)s - %(message)s\")\n",
        "\n",
        "logging.warning(\"This warning will be saved in app.log\")\n",
        "logging.error(\"This error will also be saved in app.log\")\n",
        "\n",
        "\n",
        "🔹 *Creates a file* app.log and logs messages *above the WARNING level*.\n",
        "\n",
        "\n",
        "\n",
        "---\n",
        "\n"
      ],
      "metadata": {
        "id": "WDHPpE-T6i1v"
      }
    },
    {
      "cell_type": "markdown",
      "source": [
        "Q22: What is the os module in Python used for in file handling?"
      ],
      "metadata": {
        "id": "4g_y1Q1o6jGK"
      }
    },
    {
      "cell_type": "markdown",
      "source": [
        "Ans: The **os** module in Python provides a way to interact with the operating system, making it particularly useful for *file handling, **directory management, and **system-level operations*.\n",
        "\n",
        "---\n",
        "\n",
        "## **Key Uses of the os Module in File Handling**\n",
        "The os module offers various functions for performing common file and directory operations.\n",
        "\n",
        "### *1. File Creation and Management*\n",
        "- **os.open()** — Opens a file (low-level operation).  \n",
        "- **os.remove() / os.unlink()** — Deletes a file.  \n",
        "- **os.rename()** — Renames a file.  \n",
        "- **os.path.exists()** — Checks if a file exists.  \n",
        "\n",
        "*Example:*\n",
        "python\n",
        "import os\n",
        "\n",
        "# Create a file\n",
        "with open(\"example.txt\", \"w\") as file:\n",
        "    file.write(\"Hello, world!\")\n",
        "\n",
        "# Check if the file exists\n",
        "if os.path.exists(\"example.txt\"):\n",
        "    print(\"File exists\")\n",
        "\n",
        "# Rename the file\n",
        "os.rename(\"example.txt\", \"renamed_file.txt\")\n",
        "\n",
        "# Delete the file\n",
        "os.remove(\"renamed_file.txt\")\n",
        "\n",
        "\n",
        "---\n",
        "\n",
        "### *2. Directory Management*\n",
        "- **os.mkdir()** — Creates a new directory.  \n",
        "- **os.makedirs()** — Creates nested directories.  \n",
        "- **os.rmdir()** — Removes an empty directory.  \n",
        "- **os.removedirs()** — Removes nested empty directories.  \n",
        "- **os.listdir()** — Lists files and directories in a specified path.  \n",
        "\n",
        "*Example:*\n",
        "python\n",
        "import os\n",
        "\n",
        "# Create a new directory\n",
        "os.mkdir(\"test_folder\")\n",
        "\n",
        "# List files and folders in the current directory\n",
        "print(\"Contents of current directory:\", os.listdir(\".\"))\n",
        "\n",
        "# Remove the directory\n",
        "os.rmdir(\"test_folder\")\n",
        "\n",
        "\n",
        "---\n",
        "\n",
        "### *3. Path Handling*\n",
        "- **os.path.join()** — Combines multiple path components in an OS-independent way.  \n",
        "- **os.path.abspath()** — Returns the absolute path of a file.  \n",
        "- **os.path.basename()** — Extracts the filename from a path.  \n",
        "- **os.path.dirname()** — Extracts the directory name from a path.  \n",
        "\n",
        "*Example:*\n",
        "python\n",
        "import os\n",
        "\n",
        "# Join paths safely across platforms\n",
        "file_path = os.path.join(\"folder\", \"example.txt\")\n",
        "print(\"Path:\", file_path)\n",
        "\n",
        "# Extract file details\n",
        "print(\"Base name:\", os.path.basename(file_path))\n",
        "print(\"Directory name:\", os.path.dirname(file_path))\n",
        "print(\"Absolute path:\", os.path.abspath(file_path))\n",
        "\n",
        "\n",
        "---\n",
        "\n",
        "### *4. File Permissions and Metadata*\n",
        "- **os.chmod()** — Changes file permissions.  \n",
        "- **os.stat()** — Retrieves metadata about a file (e.g., size, creation time).  \n",
        "\n",
        "*Example:*\n",
        "python\n",
        "import os\n",
        "\n",
        "# Check file metadata\n",
        "file_info = os.stat(\"example.txt\")\n",
        "print(f\"File size: {file_info.st_size} bytes\")\n",
        "\n",
        "\n",
        "---\n",
        "\n",
        "### *5. Working with Environment Variables*\n",
        "- **os.getenv()** — Retrieves environment variables.  \n",
        "- **os.putenv()** — Sets environment variables.  \n",
        "\n",
        "*Example:*\n",
        "python\n",
        "import os\n",
        "\n",
        "# Get an environment variable\n",
        "home_dir = os.getenv(\"HOME\")\n",
        "print(\"Home Directory:\", home_dir)\n",
        "\n",
        "\n",
        "---\n",
        "\n",
        "### *6. Running System Commands*\n",
        "- **os.system()** — Executes system commands directly from Python.  \n",
        "\n",
        "*Example:*\n",
        "python\n",
        "import os\n",
        "\n",
        "# Run a system command (e.g., list directory contents)\n",
        "os.system(\"ls\")  # On Windows, use `dir`\n",
        "\n",
        "\n",
        "---\n",
        "\n",
        "  \n",
        "\n"
      ],
      "metadata": {
        "id": "hfwKhLKh6jYG"
      }
    },
    {
      "cell_type": "markdown",
      "source": [
        "Q23: What are the challenges associated with memory management in Python?"
      ],
      "metadata": {
        "id": "Zn9fC8Yu6jp0"
      }
    },
    {
      "cell_type": "markdown",
      "source": [
        "Ans: Python's memory management system is powerful and efficient, but it comes with certain *challenges* that developers should be aware of. These challenges can impact performance, resource usage, and application stability.\n",
        "\n",
        "---\n",
        "\n",
        "## *Challenges in Python Memory Management*\n",
        "\n",
        "### *1. Garbage Collection Overhead*\n",
        "- Python uses *automatic garbage collection* to manage memory.  \n",
        "- The *garbage collector (GC)* may introduce performance overhead, especially in memory-intensive applications.  \n",
        "- Frequent GC cycles can temporarily slow down the program.  \n",
        "\n",
        "*Example Issue:*  \n",
        "In programs with circular references (e.g., two objects referencing each other), the GC may require additional passes to identify and clean them.\n",
        "\n",
        "*Solution:* Optimize data structures and manage object references carefully.\n",
        "\n",
        "---\n",
        "\n",
        "### *2. Memory Leaks*\n",
        "- Memory leaks occur when objects are no longer needed but are still referenced, preventing the GC from freeing them.  \n",
        "- Common causes include:\n",
        "  - Unintentional global variables.\n",
        "  - Circular references that the garbage collector fails to detect efficiently.\n",
        "  - Persistent references in data structures like lists or dictionaries.\n",
        "\n",
        "\n",
        "\n",
        "\n",
        "*Solution:*  \n",
        "- Use tools like gc.collect() to manually trigger garbage collection.  \n",
        "- Regularly review code for unintended references.  \n",
        "\n",
        "---\n",
        "\n",
        "### *3. Fragmentation*\n",
        "- Python’s *memory allocator* may fragment memory over time, especially in long-running processes.  \n",
        "- Fragmentation occurs when free memory blocks are scattered across the heap, reducing available contiguous memory.\n",
        "\n",
        "*Solution:*  \n",
        "- Reuse objects where possible.  \n",
        "- Consider using data structures like *arrays* instead of scattered objects.\n",
        "\n",
        "---\n",
        "\n",
        "### *4. Reference Counting Limitations*\n",
        "- Python primarily relies on *reference counting* for memory management.  \n",
        "- If two or more objects reference each other (circular references), they may persist even when no longer needed.\n",
        "\n",
        "\n",
        "\n",
        "*Solution:* Use weakref to manage circular references more efficiently.\n",
        "\n",
        "---\n",
        "\n",
        "### *5. Inefficient Use of Large Objects*\n",
        "- Creating large objects (e.g., huge lists, dictionaries) may consume excessive memory if not handled properly.  \n",
        "- If these objects are referenced unintentionally, memory consumption may spike.\n",
        "\n",
        "*Solution:*  \n",
        "- Use efficient data structures like *generators* or *iterators* for large data processing.  \n",
        "- Avoid holding references to large objects longer than necessary.\n",
        "\n",
        "---\n",
        "\n",
        "### *6. Global Interpreter Lock (GIL)*\n",
        "- The *GIL* limits Python to executing one thread at a time, even in multi-threaded programs.  \n",
        "- This constraint can lead to inefficient CPU-bound tasks, especially in concurrent applications.\n",
        "\n",
        "*Solution:* Use the **multiprocessing** module for parallelism instead of relying solely on threading.\n",
        "\n",
        "---\n",
        "\n",
        "### *7. Delayed Deallocation*\n",
        "- Python may delay deallocation in cases where objects are part of circular references or are locked by active threads.\n",
        "\n",
        "*Solution:* Manually invoke gc.collect() to force garbage collection if needed.\n",
        "\n",
        "---\n",
        "\n",
        "\n",
        "\n",
        "---\n",
        "\n",
        "\n",
        "While Python’s automatic memory management simplifies development, understanding its limitations helps developers write efficient, optimized code. Effective memory management is key to ensuring your Python applications run smoothly, especially in large-scale or performance-critical environments.\n",
        "\n"
      ],
      "metadata": {
        "id": "dCVK9-JT6j7x"
      }
    },
    {
      "cell_type": "markdown",
      "source": [
        "Q24: How do you raise an exception manually in Python?"
      ],
      "metadata": {
        "id": "Q4r_mQ8l6lio"
      }
    },
    {
      "cell_type": "markdown",
      "source": [
        "Ans: In Python, you can manually *raise an exception* using the raise keyword. This is useful for handling errors, enforcing constraints, or signaling unexpected behavior in a program.\n",
        "\n",
        "---\n",
        "\n",
        "## *1. Raising a Built-in Exception*\n",
        "Python provides many built-in exceptions, such as ValueError, TypeError, and RuntimeError. You can raise them explicitly.\n",
        "\n",
        "\n",
        "\n",
        "---\n",
        "\n",
        "## *2. Raising an Exception with Custom Messages*\n",
        "You can include a custom error message when raising an exception.\n",
        "\n",
        "\n",
        "---\n",
        "\n",
        "## *3. Raising a Custom Exception (User-Defined)*\n",
        "You can define your own exception classes by inheriting from Exception.\n",
        "\n",
        "\n",
        "\n",
        "---\n",
        "\n",
        "## **4. Using raise Without an Argument**\n",
        "Inside an except block, you can use raise without arguments to re-raise the current exception.\n",
        "\n",
        "\n",
        "\n",
        "\n",
        "---\n",
        "\n",
        "## **5. Raising Exceptions in try-except-finally Blocks**\n",
        "When raising exceptions inside a try block, the finally block still executes before the exception is propagated.\n",
        "\n",
        "\n",
        "\n",
        "\n",
        "---\n",
        "\n",
        "## *Summary*\n",
        "| *Method* | *Example* | *Use Case* |\n",
        "|------------|------------|--------------|\n",
        "| Raising a built-in exception | raise ValueError(\"Invalid input!\") | Handling common errors |\n",
        "| Raising with a custom message | raise TypeError(\"Expected a number.\") | More informative errors |\n",
        "| Raising a custom exception | raise MyCustomError(\"Something went wrong.\") | Specific application errors |\n",
        "| Re-raising an exception | raise inside except | Propagating caught exceptions |\n",
        "| Raising inside finally | raise RuntimeError(\"Error occurred.\") | Ensuring cleanup before failure |\n",
        "\n"
      ],
      "metadata": {
        "id": "Aw1vi6io6lyx"
      }
    },
    {
      "cell_type": "markdown",
      "source": [
        "Q25: Why is it important to use multithreading in certain applications?"
      ],
      "metadata": {
        "id": "sakJp4xr6mCo"
      }
    },
    {
      "cell_type": "markdown",
      "source": [
        "Ans: Using *multithreading* in certain applications is important because it allows for *concurrent execution, improving performance and responsiveness in specific scenarios. While Python’s **Global Interpreter Lock (GIL)* imposes some limitations on CPU-bound tasks, multithreading still offers significant benefits for *I/O-bound* and *concurrent* operations.\n",
        "\n",
        "---\n",
        "\n",
        "## * Reasons to Use Multithreading*\n",
        "\n",
        "### *1. Improved Performance in I/O-bound Tasks*\n",
        "- Multithreading excels in tasks that involve waiting for external resources such as:\n",
        "  - File operations\n",
        "  - Network requests (e.g., API calls)\n",
        "  - Database interactions  \n",
        "- While one thread waits for data, another thread can continue executing.\n",
        "\n",
        "\n",
        "---\n",
        "\n",
        "### *2. Enhanced Application Responsiveness*\n",
        "- In GUI applications or web servers, multithreading helps keep the interface responsive while background tasks (like file uploads or data processing) continue running.  \n",
        "- For instance, in a chat application, one thread can handle message input while another sends messages over the network.\n",
        "\n",
        "---\n",
        "\n",
        "### *3. Efficient Resource Utilization*\n",
        "- Multithreading optimizes CPU usage by allowing multiple threads to share the same resources (like memory), reducing idle time.\n",
        "\n",
        "*Example:* Web scraping, where multiple threads can fetch data from different URLs simultaneously.\n",
        "\n",
        "---\n",
        "\n",
        "### *4. Improved Scalability*\n",
        "- For applications that need to manage multiple client connections (e.g., web servers), multithreading helps manage concurrent requests efficiently.  \n",
        "- Frameworks like *Flask, **Django, and **FastAPI* leverage multithreading to handle multiple client requests.\n",
        "\n",
        "---\n",
        "\n",
        "### *5. Faster Execution in Asynchronous Tasks*\n",
        "- While CPU-bound tasks are better suited for *multiprocessing, multithreading efficiently handles tasks that involve **waiting* rather than intensive computation.  \n",
        "\n",
        "---\n",
        "\n",
        "\n",
        "\n",
        "## * When to Use Multithreading*\n",
        "| *Task Type* | *Recommended Approach* |\n",
        "|:---------------|:-------------------------|\n",
        "| I/O-bound tasks (e.g., web scraping, network requests) | ✅ Multithreading |\n",
        "| CPU-bound tasks (e.g., data analysis, image processing) | ✅ Multiprocessing |\n",
        "| GUI applications (for responsive UIs) | ✅ Multithreading |\n",
        "| Real-time concurrent connections (e.g., chat servers) | ✅ Multithreading |\n",
        "\n"
      ],
      "metadata": {
        "id": "hAtLG3fj6mSx"
      }
    },
    {
      "cell_type": "markdown",
      "source": [
        "#* PRACTICAL QUESTION*#"
      ],
      "metadata": {
        "id": "SAGVE5nx9Bve"
      }
    },
    {
      "cell_type": "markdown",
      "source": [
        "Q1: How can you open a file for writing in Python and write a string to it?"
      ],
      "metadata": {
        "id": "3A-546329Ock"
      }
    },
    {
      "cell_type": "code",
      "source": [
        "# Open the file in write mode\n",
        "with open(\"example.txt\", \"w\") as file:\n",
        "    # Write a string to the file\n",
        "    file.write(\"Hello, world!\")"
      ],
      "metadata": {
        "id": "V8WNl0mX9Q9p"
      },
      "execution_count": 1,
      "outputs": []
    },
    {
      "cell_type": "markdown",
      "source": [
        "Q2:  Write a Python program to read the contents of a file and print each line?"
      ],
      "metadata": {
        "id": "N0uxHTHn9R6j"
      }
    },
    {
      "cell_type": "code",
      "source": [
        "try:\n",
        "    with open(\"example.txt\", \"r\") as file:\n",
        "        for line in file:\n",
        "            print(line.strip())\n",
        "except FileNotFoundError:\n",
        "    print(\"The file does not exist.\")\n",
        ""
      ],
      "metadata": {
        "id": "rrP2JO7E9TZ3",
        "colab": {
          "base_uri": "https://localhost:8080/"
        },
        "outputId": "18f4424f-42fd-45f3-c02c-3dc388a1628b"
      },
      "execution_count": 2,
      "outputs": [
        {
          "output_type": "stream",
          "name": "stdout",
          "text": [
            "Hello, world!\n"
          ]
        }
      ]
    },
    {
      "cell_type": "markdown",
      "source": [
        "Q3: How would you handle a case where the file doesn't exist while trying to open it for reading?"
      ],
      "metadata": {
        "id": "xdYoHi9x9UOv"
      }
    },
    {
      "cell_type": "code",
      "source": [
        "try:\n",
        "    with open(\"example.txt\", \"r\") as file:\n",
        "        for line in file:\n",
        "            print(line.strip())\n",
        "except FileNotFoundError:\n",
        "    print(\"Error: The file does not exist.\")\n",
        "except Exception as e:\n",
        "    print(f\"An unexpected error occurred: {e}\")"
      ],
      "metadata": {
        "id": "svkX-M6u9WSg",
        "colab": {
          "base_uri": "https://localhost:8080/"
        },
        "outputId": "fe645267-9a26-4d24-c481-61b1bafe9427"
      },
      "execution_count": 3,
      "outputs": [
        {
          "output_type": "stream",
          "name": "stdout",
          "text": [
            "Hello, world!\n"
          ]
        }
      ]
    },
    {
      "cell_type": "markdown",
      "source": [
        "Q4:  Write a Python script that reads from one file and writes its content to another file?"
      ],
      "metadata": {
        "id": "n8EmRZxI9XD-"
      }
    },
    {
      "cell_type": "code",
      "source": [
        "try:\n",
        "    # Open the source file for reading\n",
        "    with open(\"source.txt\", \"r\") as source_file:\n",
        "        content = source_file.read()  # Read the entire content of the source file\n",
        "\n",
        "    # Open the destination file for writing\n",
        "    with open(\"destination.txt\", \"w\") as destination_file:\n",
        "        destination_file.write(content)  # Write the content to the destination file\n",
        "\n",
        "    print(\"File content copied successfully.\")\n",
        "except FileNotFoundError:\n",
        "    print(\"Error: The source file does not exist.\")\n",
        "except Exception as e:\n",
        "    print(f\"An unexpected error occurred: {e}\")"
      ],
      "metadata": {
        "id": "RRXgKFXU9Ye2",
        "colab": {
          "base_uri": "https://localhost:8080/"
        },
        "outputId": "6fc9d781-bde8-480b-b968-419fb1dd334b"
      },
      "execution_count": 4,
      "outputs": [
        {
          "output_type": "stream",
          "name": "stdout",
          "text": [
            "Error: The source file does not exist.\n"
          ]
        }
      ]
    },
    {
      "cell_type": "markdown",
      "source": [
        "Q5: How would you catch and handle division by zero error in Python?"
      ],
      "metadata": {
        "id": "2QGUExcY9ZZs"
      }
    },
    {
      "cell_type": "code",
      "source": [
        "try:\n",
        "    numerator = int(input(\"Enter the numerator: \"))\n",
        "    denominator = int(input(\"Enter the denominator: \"))\n",
        "    result = numerator / denominator\n",
        "    print(f\"Result: {result}\")\n",
        "except ZeroDivisionError:\n",
        "    print(\"Error: Division by zero is not allowed.\")\n",
        "except ValueError:\n",
        "    print(\"Error: Please enter valid numbers.\")\n",
        "except Exception as e:\n",
        "    print(f\"An unexpected error occurred: {e}\")"
      ],
      "metadata": {
        "id": "0Q7LryNM9bD8",
        "colab": {
          "base_uri": "https://localhost:8080/"
        },
        "outputId": "cd17a9a5-2a5f-4f5a-d569-243a929dd5b2"
      },
      "execution_count": 5,
      "outputs": [
        {
          "output_type": "stream",
          "name": "stdout",
          "text": [
            "Enter the numerator: 45\n",
            "Enter the denominator: 0\n",
            "Error: Division by zero is not allowed.\n"
          ]
        }
      ]
    },
    {
      "cell_type": "markdown",
      "source": [
        "Q6: Write a Python program that logs an error message to a log file when a division by zero exception occurs?"
      ],
      "metadata": {
        "id": "tMXx0SaA9b2e"
      }
    },
    {
      "cell_type": "code",
      "source": [
        "import logging\n",
        "\n",
        "# Configure logging\n",
        "logging.basicConfig(\n",
        "    filename='error_log.txt',     # Log file name\n",
        "    level=logging.ERROR,          # Log only error messages\n",
        "    format='%(asctime)s - %(levelname)s - %(message)s'  # Log format\n",
        ")\n",
        "\n",
        "try:\n",
        "    numerator = int(input(\"Enter the numerator: \"))\n",
        "    denominator = int(input(\"Enter the denominator: \"))\n",
        "    result = numerator / denominator\n",
        "    print(f\"Result: {result}\")\n",
        "except ZeroDivisionError:\n",
        "    error_message = \"Error: Division by zero is not allowed.\"\n",
        "    print(error_message)\n",
        "    logging.error(error_message)  # Log the error\n",
        "except ValueError:\n",
        "    error_message = \"Error: Please enter valid numbers.\"\n",
        "    print(error_message)\n",
        "    logging.error(error_message)\n",
        "except Exception as e:\n",
        "    error_message = f\"An unexpected error occurred: {e}\"\n",
        "    print(error_message)\n",
        "    logging.error(error_message)"
      ],
      "metadata": {
        "id": "ZFqfDvGE9dnO",
        "colab": {
          "base_uri": "https://localhost:8080/"
        },
        "outputId": "5dedd813-c270-47a0-b327-b6a5ced4b650"
      },
      "execution_count": 6,
      "outputs": [
        {
          "name": "stdout",
          "output_type": "stream",
          "text": [
            "Enter the numerator: 48\n",
            "Enter the denominator: j\n"
          ]
        },
        {
          "output_type": "stream",
          "name": "stderr",
          "text": [
            "ERROR:root:Error: Please enter valid numbers.\n"
          ]
        },
        {
          "output_type": "stream",
          "name": "stdout",
          "text": [
            "Error: Please enter valid numbers.\n"
          ]
        }
      ]
    },
    {
      "cell_type": "markdown",
      "source": [
        "Q7:  How do you log information at different levels (INFO, ERROR, WARNING) in Python using the logging module?"
      ],
      "metadata": {
        "id": "YizVlJ1s9egh"
      }
    },
    {
      "cell_type": "code",
      "source": [
        "import logging\n",
        "\n",
        "# Configure logging\n",
        "logging.basicConfig(\n",
        "    filename='app_log.txt',           # Log file name\n",
        "    level=logging.DEBUG,              # Capture all log levels\n",
        "    format='%(asctime)s - %(levelname)s - %(message)s'  # Log format\n",
        ")\n",
        "\n",
        "# Logging messages at different levels\n",
        "logging.debug(\"This is a DEBUG message for detailed troubleshooting.\")\n",
        "logging.info(\"This is an INFO message to indicate normal operation.\")\n",
        "logging.warning(\"This is a WARNING message about potential issues.\")\n",
        "logging.error(\"This is an ERROR message indicating a problem.\")\n",
        "logging.critical(\"This is a CRITICAL message indicating a serious failure.\")"
      ],
      "metadata": {
        "id": "quLq2VYA9gHH",
        "colab": {
          "base_uri": "https://localhost:8080/"
        },
        "outputId": "b4a3ce31-6dd4-4765-cc7e-293cba0681b0"
      },
      "execution_count": 7,
      "outputs": [
        {
          "output_type": "stream",
          "name": "stderr",
          "text": [
            "WARNING:root:This is a WARNING message about potential issues.\n",
            "ERROR:root:This is an ERROR message indicating a problem.\n",
            "CRITICAL:root:This is a CRITICAL message indicating a serious failure.\n"
          ]
        }
      ]
    },
    {
      "cell_type": "markdown",
      "source": [
        "Q8: Write a program to handle a file opening error using exception handling?"
      ],
      "metadata": {
        "id": "hbvX7At-9g4V"
      }
    },
    {
      "cell_type": "code",
      "source": [
        "try:\n",
        "    # Attempt to open the file\n",
        "    with open(\"non_existent_file.txt\", \"r\") as file:\n",
        "        content = file.read()\n",
        "        print(\"File content:\\n\", content)\n",
        "except FileNotFoundError:\n",
        "    print(\"Error: The file does not exist.\")\n",
        "except PermissionError:\n",
        "    print(\"Error: Permission denied. Unable to access the file.\")\n",
        "except Exception as e:\n",
        "    print(f\"An unexpected error occurred: {e}\")"
      ],
      "metadata": {
        "id": "2t1YFxP79iuT",
        "colab": {
          "base_uri": "https://localhost:8080/"
        },
        "outputId": "d50b14f9-0c75-4897-c7cd-f9299f5a83e7"
      },
      "execution_count": 8,
      "outputs": [
        {
          "output_type": "stream",
          "name": "stdout",
          "text": [
            "Error: The file does not exist.\n"
          ]
        }
      ]
    },
    {
      "cell_type": "markdown",
      "source": [
        "Q9:  How can you read a file line by line and store its content in a list in Python?"
      ],
      "metadata": {
        "id": "9UM6Kz0Z9jVn"
      }
    },
    {
      "cell_type": "code",
      "source": [
        "with open(\"example.txt\", \"r\") as file:\n",
        "    lines = file.readlines()  # Reads all lines into a list\n",
        "\n",
        "# Optional: Remove trailing newlines using list comprehension\n",
        "lines = [line.strip() for line in lines]\n",
        "\n",
        "print(lines)"
      ],
      "metadata": {
        "id": "NHKu8Zdf9kxS",
        "colab": {
          "base_uri": "https://localhost:8080/"
        },
        "outputId": "48818f51-aac5-4a4c-896b-39c389f19069"
      },
      "execution_count": 9,
      "outputs": [
        {
          "output_type": "stream",
          "name": "stdout",
          "text": [
            "['Hello, world!']\n"
          ]
        }
      ]
    },
    {
      "cell_type": "markdown",
      "source": [
        "Q10:  How can you append data to an existing file in Python?"
      ],
      "metadata": {
        "id": "Wn2CqrZb9lfH"
      }
    },
    {
      "cell_type": "code",
      "source": [
        "# Open the file in append mode\n",
        "with open(\"example.txt\", \"a\") as file:\n",
        "    file.write(\"\\nThis is a new line of text.\")\n",
        "    file.write(\"\\nAppending more content here.\")"
      ],
      "metadata": {
        "id": "ccivzlud9ndZ"
      },
      "execution_count": 10,
      "outputs": []
    },
    {
      "cell_type": "markdown",
      "source": [
        "Q11: Write a Python program that uses a try-except block to handle an error when attempting to access a\n",
        "dictionary key that doesn't exist."
      ],
      "metadata": {
        "id": "uZ59Jjt79ozT"
      }
    },
    {
      "cell_type": "code",
      "source": [
        "# Sample dictionary\n",
        "student_scores = {\n",
        "    \"Alice\": 85,\n",
        "    \"Bob\": 92,\n",
        "    \"Charlie\": 78\n",
        "}\n",
        "\n",
        "try:\n",
        "    # Attempt to access a key\n",
        "    name = input(\"Enter the student's name: \")\n",
        "    score = student_scores[name]  # Key lookup\n",
        "    print(f\"{name}'s score is {score}\")\n",
        "except KeyError:\n",
        "    print(f\"Error: '{name}' does not exist in the dictionary.\")"
      ],
      "metadata": {
        "id": "RPxELcGp9su5",
        "colab": {
          "base_uri": "https://localhost:8080/"
        },
        "outputId": "18a04751-01a7-4b28-b245-f9dbd41b1c00"
      },
      "execution_count": 11,
      "outputs": [
        {
          "output_type": "stream",
          "name": "stdout",
          "text": [
            "Enter the student's name: Alice\n",
            "Alice's score is 85\n"
          ]
        }
      ]
    },
    {
      "cell_type": "markdown",
      "source": [
        "Q12:  Write a program that demonstrates using multiple except blocks to handle different types of exceptions?"
      ],
      "metadata": {
        "id": "F-Hu2tPC9t53"
      }
    },
    {
      "cell_type": "code",
      "source": [
        "try:\n",
        "    # Input values\n",
        "    numerator = int(input(\"Enter the numerator: \"))      # May raise ValueError\n",
        "    denominator = int(input(\"Enter the denominator: \"))  # May raise ValueError\n",
        "\n",
        "    # Division operation\n",
        "    result = numerator / denominator                     # May raise ZeroDivisionError\n",
        "\n",
        "    # Dictionary lookup\n",
        "    data = {\"Alice\": 90, \"Bob\": 85}\n",
        "    name = input(\"Enter a student's name: \")             # May raise KeyError\n",
        "    score = data[name]\n",
        "\n",
        "    print(f\"{name}'s score is {score}\")\n",
        "    print(f\"Result of division: {result}\")\n",
        "\n",
        "# Handling different exceptions\n",
        "except ZeroDivisionError:\n",
        "    print(\"Error: Division by zero is not allowed.\")\n",
        "except ValueError:\n",
        "    print(\"Error: Invalid input. Please enter numeric values.\")\n",
        "except KeyError:\n",
        "    print(\"Error: The entered name does not exist in the dictionary.\")\n",
        "except Exception as e:\n",
        "    print(f\"An unexpected error occurred: {e}\")"
      ],
      "metadata": {
        "id": "WchS31V79w5x",
        "colab": {
          "base_uri": "https://localhost:8080/"
        },
        "outputId": "4141ac4e-8331-433e-bcf4-363cb72061f8"
      },
      "execution_count": 29,
      "outputs": [
        {
          "output_type": "stream",
          "name": "stdout",
          "text": [
            "Enter the numerator: 14\n",
            "Enter the denominator: 0\n",
            "Error: Division by zero is not allowed.\n"
          ]
        }
      ]
    },
    {
      "cell_type": "markdown",
      "source": [
        "Q13: How would you check if a file exists before attempting to read it in Python?"
      ],
      "metadata": {
        "id": "vg8ISy379xry"
      }
    },
    {
      "cell_type": "code",
      "source": [
        "import os\n",
        "\n",
        "file_path = \"example.txt\"\n",
        "\n",
        "if os.path.exists(file_path):  # Checks if the file exists\n",
        "    with open(file_path, \"r\") as file:\n",
        "        content = file.read()\n",
        "        print(\"File content:\\n\", content)\n",
        "else:\n",
        "    print(f\"Error: The file '{file_path}' does not exist.\")"
      ],
      "metadata": {
        "id": "g9M9xFyf-WdC",
        "colab": {
          "base_uri": "https://localhost:8080/"
        },
        "outputId": "e10241b8-21b9-4266-dc4c-2b755a2b4387"
      },
      "execution_count": 13,
      "outputs": [
        {
          "output_type": "stream",
          "name": "stdout",
          "text": [
            "File content:\n",
            " Hello, world!\n",
            "This is a new line of text.\n",
            "Appending more content here.\n"
          ]
        }
      ]
    },
    {
      "cell_type": "markdown",
      "source": [
        "Q14: Write a program that uses the logging module to log both informational and error messages?"
      ],
      "metadata": {
        "id": "EZ_6E4DA-YDp"
      }
    },
    {
      "cell_type": "code",
      "source": [
        "import logging\n",
        "\n",
        "# Configure logging\n",
        "logging.basicConfig(\n",
        "    filename='app.log',             # Log file name\n",
        "    level=logging.DEBUG,            # Capture INFO, ERROR, and other levels\n",
        "    format='%(asctime)s - %(levelname)s - %(message)s'\n",
        ")\n",
        "\n",
        "def divide_numbers(a, b):\n",
        "    \"\"\"Divides two numbers and handles division by zero.\"\"\"\n",
        "    try:\n",
        "        result = a / b\n",
        "        logging.info(f\"Division successful: {a} / {b} = {result}\")\n",
        "        return result\n",
        "    except ZeroDivisionError:\n",
        "        logging.error(f\"Error: Division by zero attempted (a={a}, b={b})\")\n",
        "        return \"Error: Division by zero is not allowed.\"\n",
        "    except Exception as e:\n",
        "        logging.error(f\"Unexpected error: {e}\")\n",
        "        return \"An unexpected error occurred.\"\n",
        "\n",
        "# Example usage\n",
        "print(divide_numbers(10, 2))    # Successful division (INFO logged)\n",
        "print(divide_numbers(10, 0))    # Division by zero (ERROR logged)\n",
        "print(divide_numbers(10, \"x\"))  # Invalid input (ERROR logged)"
      ],
      "metadata": {
        "id": "MCZB55Ei-gXH",
        "colab": {
          "base_uri": "https://localhost:8080/"
        },
        "outputId": "fede888f-4bb0-4643-aeb1-e66ea4e50c90"
      },
      "execution_count": 14,
      "outputs": [
        {
          "output_type": "stream",
          "name": "stderr",
          "text": [
            "ERROR:root:Error: Division by zero attempted (a=10, b=0)\n",
            "ERROR:root:Unexpected error: unsupported operand type(s) for /: 'int' and 'str'\n"
          ]
        },
        {
          "output_type": "stream",
          "name": "stdout",
          "text": [
            "5.0\n",
            "Error: Division by zero is not allowed.\n",
            "An unexpected error occurred.\n"
          ]
        }
      ]
    },
    {
      "cell_type": "markdown",
      "source": [
        "Q15: Write a Python program that prints the content of a file and handles the case when the file is empty?"
      ],
      "metadata": {
        "id": "MiC7NL89-hdK"
      }
    },
    {
      "cell_type": "code",
      "source": [
        "def read_file_content(file_path):\n",
        "    \"\"\"Reads and prints the content of a file, handling empty file cases.\"\"\"\n",
        "    try:\n",
        "        with open(file_path, \"r\") as file:\n",
        "            content = file.read().strip()  # .strip() removes leading/trailing whitespace\n",
        "\n",
        "            if content:  # Check if content is not empty\n",
        "                print(\"File Content:\\n\", content)\n",
        "            else:\n",
        "                print(\"The file is empty.\")\n",
        "\n",
        "    except FileNotFoundError:\n",
        "        print(f\"Error: The file '{file_path}' does not exist.\")\n",
        "    except PermissionError:\n",
        "        print(f\"Error: Permission denied for file '{file_path}'.\")\n",
        "    except Exception as e:\n",
        "        print(f\"An unexpected error occurred: {e}\")\n",
        "\n",
        "# Example usage\n",
        "file_path = input(\"Enter the file name: \")\n",
        "read_file_content(file_path)"
      ],
      "metadata": {
        "id": "IEQc4mmU-kIQ",
        "colab": {
          "base_uri": "https://localhost:8080/"
        },
        "outputId": "c74489f2-9d00-4407-ba73-fce38fbe6946"
      },
      "execution_count": 15,
      "outputs": [
        {
          "output_type": "stream",
          "name": "stdout",
          "text": [
            "Enter the file name: student\n",
            "Error: The file 'student' does not exist.\n"
          ]
        }
      ]
    },
    {
      "cell_type": "markdown",
      "source": [
        "Q16: Demonstrate how to use memory profiling to check the memory usage of a small program?"
      ],
      "metadata": {
        "id": "M4I13czn-k1D"
      }
    },
    {
      "cell_type": "code",
      "source": [
        "!pip install memory_profiler\n",
        "from memory_profiler import profile\n",
        "import time\n",
        "\n",
        "@profile\n",
        "def memory_intensive_function():\n",
        "    # Creating a large list\n",
        "    data = [x ** 2 for x in range(100000)]\n",
        "\n",
        "    # Simulate some processing delay\n",
        "    time.sleep(2)\n",
        "\n",
        "    # Release the reference to free memory\n",
        "    del data\n",
        "\n",
        "if __name__ == \"__main__\":\n",
        "    memory_intensive_function()\n",
        "!python -m memory_profiler your_script.py\n",
        "\n",
        "@profile\n",
        "def memory_intensive_function():\n",
        "    # Creating a large list\n",
        "    data = [x ** 2 for x in range(100000)]\n",
        "\n",
        "    # Simulate some processing delay\n",
        "    time.sleep(2)\n",
        "\n",
        "    # Release the reference to free memory\n",
        "    del data\n",
        "\n",
        "!pip install memory_profiler\n",
        "from memory_profiler import profile\n",
        "import time\n",
        "\n",
        "@profile\n",
        "def memory_intensive_function():\n",
        "    # Creating a large list\n",
        "    data = [x ** 2 for x in range(100000)]\n",
        "\n",
        "    # Simulate some processing delay\n",
        "    time.sleep(2)\n",
        "\n",
        "    # Release the reference to free memory\n",
        "    del data\n",
        "\n",
        "if __name__ == \"__main__\":\n",
        "    memory_intensive_function()\n",
        "!python -m memory_profiler your_script.py\n",
        "\n",
        "@profile\n",
        "def memory_intensive_function():\n",
        "    # Creating a large list\n",
        "    data = [x ** 2 for x in range(100000)]\n",
        "\n",
        "    # Simulate some processing delay\n",
        "    time.sleep(2)\n",
        "\n",
        "    # Release the reference to free memory\n",
        "    del data\n",
        "\n",
        "if __name__ == \"__main__\":\n",
        "    memory_intensive_function()\n",
        "!python -m memory_profiler your_script.py"
      ],
      "metadata": {
        "id": "WLPsGs54-mvM",
        "colab": {
          "base_uri": "https://localhost:8080/"
        },
        "outputId": "168b8d61-57e7-4310-fab6-ab1dc2faefbe"
      },
      "execution_count": 20,
      "outputs": [
        {
          "output_type": "stream",
          "name": "stdout",
          "text": [
            "Collecting memory_profiler\n",
            "  Downloading memory_profiler-0.61.0-py3-none-any.whl.metadata (20 kB)\n",
            "Requirement already satisfied: psutil in /usr/local/lib/python3.11/dist-packages (from memory_profiler) (5.9.5)\n",
            "Downloading memory_profiler-0.61.0-py3-none-any.whl (31 kB)\n",
            "Installing collected packages: memory_profiler\n",
            "Successfully installed memory_profiler-0.61.0\n"
          ]
        },
        {
          "output_type": "stream",
          "name": "stderr",
          "text": [
            "\n",
            "PYDEV DEBUGGER WARNING:\n",
            "sys.settrace() should not be used when the debugger is being used.\n",
            "This may cause the debugger to stop working correctly.\n",
            "If this is needed, please check: \n",
            "http://pydev.blogspot.com/2007/06/why-cant-pydev-debugger-work-with.html\n",
            "to see how to restore the debug tracing back correctly.\n",
            "Call Location:\n",
            "  File \"/usr/local/lib/python3.11/dist-packages/memory_profiler.py\", line 847, in enable\n",
            "    sys.settrace(self.trace_memory_usage)\n",
            "\n"
          ]
        },
        {
          "output_type": "stream",
          "name": "stdout",
          "text": [
            "ERROR: Could not find file <ipython-input-20-fef5628b850d>\n",
            "NOTE: %mprun can only be used on functions defined in physical files, and not in the IPython environment.\n"
          ]
        },
        {
          "output_type": "stream",
          "name": "stderr",
          "text": [
            "\n",
            "PYDEV DEBUGGER WARNING:\n",
            "sys.settrace() should not be used when the debugger is being used.\n",
            "This may cause the debugger to stop working correctly.\n",
            "If this is needed, please check: \n",
            "http://pydev.blogspot.com/2007/06/why-cant-pydev-debugger-work-with.html\n",
            "to see how to restore the debug tracing back correctly.\n",
            "Call Location:\n",
            "  File \"/usr/local/lib/python3.11/dist-packages/memory_profiler.py\", line 850, in disable\n",
            "    sys.settrace(self._original_trace_function)\n",
            "\n"
          ]
        },
        {
          "output_type": "stream",
          "name": "stdout",
          "text": [
            "Could not find script your_script.py\n",
            "Requirement already satisfied: memory_profiler in /usr/local/lib/python3.11/dist-packages (0.61.0)\n",
            "Requirement already satisfied: psutil in /usr/local/lib/python3.11/dist-packages (from memory_profiler) (5.9.5)\n",
            "ERROR: Could not find file <ipython-input-20-fef5628b850d>\n",
            "NOTE: %mprun can only be used on functions defined in physical files, and not in the IPython environment.\n",
            "Could not find script your_script.py\n",
            "ERROR: Could not find file <ipython-input-20-fef5628b850d>\n",
            "NOTE: %mprun can only be used on functions defined in physical files, and not in the IPython environment.\n",
            "Could not find script your_script.py\n"
          ]
        }
      ]
    },
    {
      "cell_type": "markdown",
      "source": [
        "Q17:  Write a Python program to create and write a list of numbers to a file, one number per line?"
      ],
      "metadata": {
        "id": "HyPgeLWb-nwz"
      }
    },
    {
      "cell_type": "code",
      "source": [
        "def write_numbers_to_file(file_path, numbers):\n",
        "    \"\"\"Writes a list of numbers to a file, one number per line.\"\"\"\n",
        "    try:\n",
        "        with open(file_path, \"w\") as file:\n",
        "            for number in numbers:\n",
        "                file.write(f\"{number}\\n\")\n",
        "        print(f\"Numbers successfully written to '{file_path}'\")\n",
        "\n",
        "    except Exception as e:\n",
        "        print(f\"An error occurred: {e}\")\n",
        "\n",
        "# Example list of numbers\n",
        "numbers = list(range(1, 21))  # Numbers from 1 to 20\n",
        "\n",
        "# Writing numbers to file\n",
        "write_numbers_to_file(\"numbers.txt\", numbers)"
      ],
      "metadata": {
        "id": "tMBkOCrd-pc4",
        "colab": {
          "base_uri": "https://localhost:8080/"
        },
        "outputId": "3da4d9bb-6464-4e2a-bd43-e2776afbd22e"
      },
      "execution_count": 21,
      "outputs": [
        {
          "output_type": "stream",
          "name": "stdout",
          "text": [
            "Numbers successfully written to 'numbers.txt'\n"
          ]
        }
      ]
    },
    {
      "cell_type": "markdown",
      "source": [
        "Q18: How would you implement a basic logging setup that logs to a file with rotation after 1MB?"
      ],
      "metadata": {
        "id": "s4JSKAur-qPH"
      }
    },
    {
      "cell_type": "code",
      "source": [
        "import logging\n",
        "from logging.handlers import RotatingFileHandler\n",
        "\n",
        "# Configure logging\n",
        "log_file = \"app.log\"\n",
        "\n",
        "logging.basicConfig(\n",
        "    level=logging.DEBUG,  # Log level (DEBUG, INFO, WARNING, ERROR, CRITICAL)\n",
        "    format='%(asctime)s - %(levelname)s - %(message)s',\n",
        "    handlers=[\n",
        "        RotatingFileHandler(log_file, maxBytes=1_048_576, backupCount=3)  # 1 MB rotation, keep 3 backups\n",
        "    ]\n",
        ")\n",
        "\n",
        "# Example function to generate logs\n",
        "def generate_logs():\n",
        "    for i in range(10000):\n",
        "        logging.info(f\"Info log entry #{i}\")\n",
        "        if i % 2000 == 0:\n",
        "            logging.warning(f\"Warning log entry #{i}\")\n",
        "        if i % 3000 == 0:\n",
        "            logging.error(f\"Error log entry #{i}\")\n",
        "\n",
        "# Generate logs\n",
        "generate_logs()"
      ],
      "metadata": {
        "id": "antafhy_-s0_",
        "colab": {
          "base_uri": "https://localhost:8080/"
        },
        "outputId": "af2f8ff0-020c-45e0-8a98-bb1344e2af84"
      },
      "execution_count": 22,
      "outputs": [
        {
          "output_type": "stream",
          "name": "stderr",
          "text": [
            "WARNING:root:Warning log entry #0\n",
            "ERROR:root:Error log entry #0\n",
            "WARNING:root:Warning log entry #2000\n",
            "ERROR:root:Error log entry #3000\n",
            "WARNING:root:Warning log entry #4000\n",
            "WARNING:root:Warning log entry #6000\n",
            "ERROR:root:Error log entry #6000\n",
            "WARNING:root:Warning log entry #8000\n",
            "ERROR:root:Error log entry #9000\n"
          ]
        }
      ]
    },
    {
      "cell_type": "markdown",
      "source": [
        "Q19: Write a program that handles both IndexError and KeyError using a try-except block?"
      ],
      "metadata": {
        "id": "INQUqjDd-uAP"
      }
    },
    {
      "cell_type": "code",
      "source": [
        "def access_elements():\n",
        "    # Sample list and dictionary\n",
        "    numbers = [10, 20, 30]\n",
        "    student_scores = {\"Alice\": 85, \"Bob\": 92}\n",
        "\n",
        "    try:\n",
        "        # Attempt to access list and dictionary elements\n",
        "        index = int(input(\"Enter a list index (0-2): \"))\n",
        "        print(f\"List element at index {index}: {numbers[index]}\")\n",
        "\n",
        "        name = input(\"Enter a student's name: \")\n",
        "        print(f\"{name}'s score is {student_scores[name]}\")\n",
        "\n",
        "    except IndexError:\n",
        "        print(\"Error: List index out of range. Please choose a valid index.\")\n",
        "\n",
        "    except KeyError:\n",
        "        print(\"Error: Student name not found in the dictionary.\")\n",
        "\n",
        "    except Exception as e:\n",
        "        print(f\"An unexpected error occurred: {e}\")\n",
        "\n",
        "# Run the function\n",
        "access_elements()"
      ],
      "metadata": {
        "id": "zkuWZ5EH-y5Q",
        "colab": {
          "base_uri": "https://localhost:8080/"
        },
        "outputId": "305dcfc5-8b76-4199-95ef-0b88dbeee30f"
      },
      "execution_count": 24,
      "outputs": [
        {
          "output_type": "stream",
          "name": "stdout",
          "text": [
            "Enter a list index (0-2): 1\n",
            "List element at index 1: 20\n",
            "Enter a student's name: Alice\n",
            "Alice's score is 85\n"
          ]
        }
      ]
    },
    {
      "cell_type": "markdown",
      "source": [
        "Q20:  How would you open a file and read its contents using a context manager in Python?"
      ],
      "metadata": {
        "id": "e5TT1LWf-ztF"
      }
    },
    {
      "cell_type": "code",
      "source": [
        "def read_file(file_path):\n",
        "    \"\"\"Reads and prints the content of a file using a context manager.\"\"\"\n",
        "    try:\n",
        "        with open(file_path, \"r\") as file:  # Opens the file in read mode\n",
        "            content = file.read()\n",
        "            print(\"File Content:\\n\", content)\n",
        "    except FileNotFoundError:\n",
        "        print(f\"Error: The file '{file_path}' does not exist.\")\n",
        "    except Exception as e:\n",
        "        print(f\"An error occurred: {e}\")\n",
        "\n",
        "# Example usage\n",
        "read_file(\"example.txt\")"
      ],
      "metadata": {
        "id": "8gMDmbnI-1hf",
        "colab": {
          "base_uri": "https://localhost:8080/"
        },
        "outputId": "6c4363b3-f573-4bf4-eca1-ba12fd4961c4"
      },
      "execution_count": 25,
      "outputs": [
        {
          "output_type": "stream",
          "name": "stdout",
          "text": [
            "File Content:\n",
            " Hello, world!\n",
            "This is a new line of text.\n",
            "Appending more content here.\n"
          ]
        }
      ]
    },
    {
      "cell_type": "markdown",
      "source": [
        "Q21:  Write a Python program that reads a file and prints the number of occurrences of a specific word?"
      ],
      "metadata": {
        "id": "JJwXpdt0-2Qm"
      }
    },
    {
      "cell_type": "code",
      "source": [
        "def count_word_occurrences(file_path, target_word):\n",
        "    \"\"\"Counts the number of occurrences of a specific word in a file.\"\"\"\n",
        "    try:\n",
        "        with open(file_path, \"r\") as file:\n",
        "            content = file.read().lower()  # Convert content to lowercase for case insensitivity\n",
        "            words = content.split()       # Split text into individual words\n",
        "            word_count = words.count(target_word.lower())  # Count the target word\n",
        "\n",
        "        print(f\"The word '{target_word}' appears {word_count} times in '{file_path}'.\")\n",
        "\n",
        "    except FileNotFoundError:\n",
        "        print(f\"Error: The file '{file_path}' does not exist.\")\n",
        "    except Exception as e:\n",
        "        print(f\"An unexpected error occurred: {e}\")\n",
        "\n",
        "# Example usage\n",
        "file_path = input(\"Enter the file name: \")\n",
        "target_word = input(\"Enter the word to count: \")\n",
        "count_word_occurrences(file_path, target_word)"
      ],
      "metadata": {
        "id": "jdZDRkFK_ASg",
        "colab": {
          "base_uri": "https://localhost:8080/"
        },
        "outputId": "26a501b5-f030-4ae4-8ce9-0e26486cab17"
      },
      "execution_count": 26,
      "outputs": [
        {
          "output_type": "stream",
          "name": "stdout",
          "text": [
            "Enter the file name: example.txt\n",
            "Enter the word to count: Alice\n",
            "The word 'Alice' appears 0 times in 'example.txt'.\n"
          ]
        }
      ]
    },
    {
      "cell_type": "markdown",
      "source": [
        "Q22: How can you check if a file is empty before attempting to read its contents?"
      ],
      "metadata": {
        "id": "6I-tBTXx_A9-"
      }
    },
    {
      "cell_type": "code",
      "source": [
        "import os\n",
        "\n",
        "def is_file_empty(file_path):\n",
        "    \"\"\"Checks if a file is empty using os.path.getsize().\"\"\"\n",
        "    return os.path.getsize(file_path) == 0\n",
        "\n",
        "# Example usage\n",
        "file_path = \"example.txt\"\n",
        "\n",
        "if os.path.exists(file_path):\n",
        "    if is_file_empty(file_path):\n",
        "        print(f\"The file '{file_path}' is empty.\")\n",
        "    else:\n",
        "        with open(file_path, \"r\") as file:\n",
        "            print(\"File Content:\\n\", file.read())\n",
        "else:\n",
        "    print(f\"Error: The file '{file_path}' does not exist.\")"
      ],
      "metadata": {
        "id": "6NHQruQW_CeF",
        "colab": {
          "base_uri": "https://localhost:8080/"
        },
        "outputId": "38dd223f-156c-4890-802c-e95ce79193cf"
      },
      "execution_count": 27,
      "outputs": [
        {
          "output_type": "stream",
          "name": "stdout",
          "text": [
            "File Content:\n",
            " Hello, world!\n",
            "This is a new line of text.\n",
            "Appending more content here.\n"
          ]
        }
      ]
    },
    {
      "cell_type": "markdown",
      "source": [
        "Q23:  Write a Python program that writes to a log file when an error occurs during file handling?"
      ],
      "metadata": {
        "id": "ZKNQL8Q6_DNu"
      }
    },
    {
      "cell_type": "code",
      "source": [
        "import logging\n",
        "\n",
        "# Configure logging\n",
        "logging.basicConfig(\n",
        "    filename='error_log.txt',  # Log file name\n",
        "    level=logging.ERROR,      # Log level for errors\n",
        "    format='%(asctime)s - %(levelname)s - %(message)s'\n",
        ")\n",
        "\n",
        "def read_file(file_path):\n",
        "    \"\"\"Attempts to read a file and logs errors if they occur.\"\"\"\n",
        "    try:\n",
        "        with open(file_path, \"r\") as file:\n",
        "            content = file.read()\n",
        "            print(\"File Content:\\n\", content)\n",
        "    except FileNotFoundError:\n",
        "        error_message = f\"Error: The file '{file_path}' does not exist.\"\n",
        "        print(error_message)\n",
        "        logging.error(error_message)\n",
        "    except PermissionError:\n",
        "        error_message = f\"Error: Permission denied for file '{file_path}'.\"\n",
        "        print(error_message)\n",
        "        logging.error(error_message)\n",
        "    except Exception as e:\n",
        "        error_message = f\"An unexpected error occurred: {e}\"\n",
        "        print(error_message)\n",
        "        logging.error(error_message)\n",
        "\n",
        "# Example usage\n",
        "file_path = input(\"Enter the file name: \")\n",
        "read_file(file_path)"
      ],
      "metadata": {
        "id": "DJUVPB_u_EXs",
        "colab": {
          "base_uri": "https://localhost:8080/"
        },
        "outputId": "48a2e202-686c-4137-e547-93a1cf9171d7"
      },
      "execution_count": 28,
      "outputs": [
        {
          "output_type": "stream",
          "name": "stdout",
          "text": [
            "Enter the file name: example.txt\n",
            "File Content:\n",
            " Hello, world!\n",
            "This is a new line of text.\n",
            "Appending more content here.\n"
          ]
        }
      ]
    }
  ]
}